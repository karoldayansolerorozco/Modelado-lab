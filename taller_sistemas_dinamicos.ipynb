{
 "cells": [
  {
   "cell_type": "markdown",
   "id": "dd531c2e-3b42-408c-b3a0-19c5992080e3",
   "metadata": {},
   "source": [
    "# Taller 1 – Bases Matemáticas y Programación en Python para Sistemas Dinámicos  \n",
    "**Trabajo en grupos de 5 personas**  \n",
    "\n",
    "**Objetivo:** Familiarizarse con las herramientas matemáticas y computacionales necesarias para abordar el resto del curso.\n",
    "o.\n"
   ]
  },
  {
   "cell_type": "markdown",
   "id": "1f963501-4ca7-4cb0-86e5-1fdaf3dcb90c",
   "metadata": {},
   "source": [
    "## 1. Derivadas parciales y jacobianos con SymPy\n",
    "\n",
    "Considere la función:\n",
    "\n",
    "$$\n",
    "f(x,y) = \\sin(xy) + e^x \\cos(y)\n",
    "$$\n",
    "\n",
    "1. Calcular **a mano** las derivadas parciales $\\frac{\\partial f}{\\partial x}$ y $\\frac{\\partial f}{\\partial y}$.\n",
    "2. Usar **SymPy** para confirmar los resultados.\n",
    "3. Construir la **matriz jacobiana** de:\n",
    "\n",
    "$$\n",
    "F(x,y) = (f(x,y), \\, xy^2)\n",
    "$$\n",
    ", \\, xy^2)\n",
    "$$\n",
    " \\, xy^2)\n",
    "\\]\n"
   ]
  },
  {
   "cell_type": "markdown",
   "id": "49abb2d8-21fc-48f8-9f57-b283307c8d1b",
   "metadata": {},
   "source": [
    "## 2. Series y progresiones\n",
    "\n",
    "Sea la serie definida por:\n",
    "\n",
    "$$\n",
    "a_n = 3n - 2\n",
    "$$\n",
    "\n",
    "1. Escribir en Python una función que calcule el término $n$-ésimo y la **suma de los primeros $n$** términos de la serie anterior (progresión aritmética).\n",
    "\n",
    "Definir otra serie geométrica:\n",
    "\n",
    "$$\n",
    "b_n = 5 \\cdot \\left(\\frac{1}{2}\\right)^{n-1}\n",
    "$$\n",
    "\n",
    "2. Calcular el término $n$-ésimo y la suma de los primeros $n$ términos.\n",
    "3. Generar y graficar los primeros **20 términos** de ambas series en la misma figura.\n",
    "4. Comparar visualmente las diferencias de crecimiento o decrecimiento entre ambas series.\n",
    "\n"
   ]
  },
  {
   "cell_type": "markdown",
   "id": "ce41693b-1b98-4375-b3d8-4273c459d130",
   "metadata": {},
   "source": [
    "## 3. Álgebra lineal y autovalores\n",
    "\n",
    "Considere el sistema lineal:\n",
    "\n",
    "$$\n",
    "\\frac{dX}{dt} = AX, \\quad A = \\begin{pmatrix}4 & -2 \\\\ 1 & 1\\end{pmatrix}\n",
    "$$\n",
    "\n",
    "1. Calcular analíticamente los **autovalores** y **autovectores** de $A$.\n",
    "2. Usar **SymPy** para confirmar los resultados.\n",
    "3. Escribir la solución general del sistema usando la **descomposición espectral**.\n"
   ]
  },
  {
   "cell_type": "markdown",
   "id": "2eeffd5d-0f0b-41b3-b4c3-f37aefb3716e",
   "metadata": {},
   "source": [
    "## 4. Resolución simbólica y numérica de un sistema lineal de EDOs\n",
    "\n",
    "Resolver el sistema:\n",
    "\n",
    "$$\n",
    "\\frac{dx}{dt} = -3x + 4y, \\quad \\frac{dy}{dt} = -4x - 3y\n",
    "$$\n",
    "\n",
    "1. Resolver **analíticamente** usando SymPy.\n",
    "2. Resolver **numéricamente** con SciPy en el intervalo $t \\in [0,5]$ con condiciones iniciales $(x_0, y_0) = (1,0)$.\n",
    "3. Graficar las soluciones $x(t)$ y $y(t)$.\n"
   ]
  },
  {
   "cell_type": "markdown",
   "id": "eb0a587e-b308-4af1-9787-a099f9772e46",
   "metadata": {},
   "source": [
    "## 5. Sistema no lineal simbólico\n",
    "\n",
    "Considere el sistema:\n",
    "\n",
    "$$\n",
    "\\frac{dx}{dt} = \\sin(y) - x^2, \\quad \\frac{dy}{dt} = x e^{-y}\n",
    "$$\n",
    "\n",
    "1. Calcular el **jacobiano simbólicamente** usando SymPy.\n",
    "2. Evaluar el jacobiano en el punto $(x,y) = (1,0)$.\n",
    "3. Discutir brevemente en grupo qué podría implicar la forma de esta matriz (sin entrar en estabilidad).\n"
   ]
  },
  {
   "cell_type": "code",
   "execution_count": null,
   "id": "6677cb2b",
   "metadata": {},
   "outputs": [],
   "source": [
    "import sympy as sp \n",
    "from sympy import *\n",
    "import numpy as np\n",
    "\n",
    "#Definir variables simbolicas\n",
    "x,y=sp.symbols('x,y', real=True)\n",
    "\n",
    "#Definir funciones para derivar\n",
    "f_1= sin(y)- x^2\n",
    "f_2= x* e^(-y)\n",
    "\n",
    "#Hacer derirvadas \n",
    "f1_x=\n",
    "f1_y=\n",
    "\n",
    "f2_x=\n",
    "f2_y\n"
   ]
  },
  {
   "cell_type": "markdown",
   "id": "69f76f51-a507-4099-b895-77a0946eb064",
   "metadata": {},
   "source": [
    "## 6. Resolución numérica de un sistema no lineal\n",
    "\n",
    "Considere el sistema:\n",
    "\n",
    "$$\n",
    "\\frac{dx}{dt} = y, \\quad \\frac{dy}{dt} = -x - 0.5y^3\n",
    "$$\n",
    "\n",
    "1. Implementar una función en Python que calcule el **campo vectorial**.\n",
    "2. Resolver numéricamente con condiciones iniciales $(x_0, y_0) = (1,0)$ en el intervalo $t \\in [0,20]$.\n",
    "3. Graficar la trayectoria en el **espacio de fases** $(x, y)$.\n"
   ]
  },
  {
   "cell_type": "markdown",
   "id": "c8b0002c-2e8b-4ba4-a533-40180e7ef541",
   "metadata": {},
   "source": [
    "## 7. Convergencia de series\n",
    "\n",
    "Considerar la serie infinita:\n",
    "\n",
    "$$\n",
    "S = \\sum_{n=1}^{\\infty} \\frac{(-1)^{n+1}}{n}\n",
    "$$\n",
    "\n",
    "1. Usar Python para calcular la suma parcial $S_N$ para $N = 5, 10, 50, 100, 500, 1000$.\n",
    "2. Graficar $S_N$ en función de $N$ y observar su comportamiento.\n",
    "3. Discutir si la serie converge o diverge, mencionando el criterio utilizado.\n",
    "\n",
    "Repetir para la serie:\n",
    "\n",
    "$$\n",
    "T = \\sum_{n=1}^{\\infty} \\frac{1}{n}\n",
    "$$\n",
    "\n",
    "y **comparar** con el caso anterior.\n"
   ]
  },
  {
   "cell_type": "markdown",
   "id": "ca64bc6d-f34f-43ac-9232-7ba06b50bab7",
   "metadata": {},
   "source": [
    "## 8. Manipulación de datos y gráficos\n",
    "\n",
    "Generar una serie temporal:\n",
    "\n",
    "$$\n",
    "x(t) = e^{-0.1t} \\cos(2t), \\quad t \\in [0,20]\n",
    "$$\n",
    "\n",
    "1. Calcular derivada y segunda derivada simbólicamente con SymPy.\n",
    "2. Evaluar la función y sus derivadas en **50 puntos** y guardarlos en un **DataFrame** de pandas.\n",
    "3. Graficar $x(t)$, $x'(t)$ y $x''(t)$ en la misma figura.\n"
   ]
  },
  {
   "cell_type": "markdown",
   "id": "ff975176-cb5f-451c-8ac7-ff6ba7728f19",
   "metadata": {},
   "source": [
    "## 9. Combinación de simbólico y numérico\n",
    "\n",
    "Considere la ecuación diferencial:\n",
    "\n",
    "$$\n",
    "\\frac{d^2x}{dt^2} + 4 \\frac{dx}{dt} + 5x = 0\n",
    "$$\n",
    "\n",
    "1. Resolver **analíticamente** con SymPy.\n",
    "2. Resolver **numéricamente** usando SciPy y comparar las gráficas.\n",
    "3. Discutir posibles fuentes de diferencia entre ambas soluciones.\n"
   ]
  },
  {
   "cell_type": "markdown",
   "id": "a530afe8-bc27-435d-ae3e-c5a901d059ca",
   "metadata": {},
   "source": [
    "## 10. Bono – construcción de un sistema y simulación\n",
    "\n",
    "En grupo:\n",
    "\n",
    "1. Inventar un sistema no lineal de **2 variablsos).\n",
    "2. Definirlo simbólicamente en Python.\n",
    "3. Calcular su jacobiano.\n",
    "4. Resolverlo numéricamente para un conjunto de condiciones iniciales.\n",
    "5. Graficar en el **espacio de fases**.\n"
   ]
  },
  {
   "cell_type": "code",
   "execution_count": null,
   "id": "b1f8a62a-fb14-4dc6-a7da-6bec5026dd22",
   "metadata": {},
   "outputs": [],
   "source": []
  }
 ],
 "metadata": {
  "kernelspec": {
   "display_name": "base",
   "language": "python",
   "name": "python3"
  },
  "language_info": {
   "codemirror_mode": {
    "name": "ipython",
    "version": 3
   },
   "file_extension": ".py",
   "mimetype": "text/x-python",
   "name": "python",
   "nbconvert_exporter": "python",
   "pygments_lexer": "ipython3",
   "version": "3.13.5"
  }
 },
 "nbformat": 4,
 "nbformat_minor": 5
}
